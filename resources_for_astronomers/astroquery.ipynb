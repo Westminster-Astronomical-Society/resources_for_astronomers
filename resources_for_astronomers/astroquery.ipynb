{
 "cells": [
  {
   "cell_type": "markdown",
   "metadata": {},
   "source": [
    " <img style=\"float:right; height:60px; padding-right:20px\" src=\"_images/astroquery_project_logo.svg\">\n",
    "\n",
    "# Astroquery Examples\n",
    "\n",
    "Astroquery ( [https://astroquery.readthedocs.io](https://astroquery.readthedocs.io) )\n",
    "is a set of tools for querying astronomical web forms and databases.\n",
    "\n",
    "It is a coordinated package\n",
    "of Astropy project ( [http://www.astropy.org](http://www.astropy.org/) )."
   ]
  },
  {
   "cell_type": "markdown",
   "metadata": {},
   "source": [
    "General imports:"
   ]
  },
  {
   "cell_type": "code",
   "execution_count": 1,
   "metadata": {},
   "outputs": [],
   "source": [
    "from astropy import coordinates\n",
    "import astropy.units as u\n",
    "\n",
    "from astroquery.simbad import Simbad\n",
    "from astroquery.vizier import Vizier"
   ]
  },
  {
   "cell_type": "markdown",
   "metadata": {},
   "source": [
    "SIMBAD allows for simple queries based on coordinates or object names."
   ]
  },
  {
   "cell_type": "code",
   "execution_count": 9,
   "metadata": {},
   "outputs": [
    {
     "data": {
      "text/html": [
       "<div><i>Table length=1</i>\n",
       "<table id=\"table140420660553296\" class=\"table-striped table-bordered table-condensed\">\n",
       "<thead><tr><th>MAIN_ID</th><th>RA</th><th>DEC</th><th>RA_PREC</th><th>DEC_PREC</th><th>COO_ERR_MAJA</th><th>COO_ERR_MINA</th><th>COO_ERR_ANGLE</th><th>COO_QUAL</th><th>COO_WAVELENGTH</th><th>COO_BIBCODE</th><th>SCRIPT_NUMBER_ID</th></tr></thead>\n",
       "<thead><tr><th></th><th>&quot;h:m:s&quot;</th><th>&quot;d:m:s&quot;</th><th></th><th></th><th>mas</th><th>mas</th><th>deg</th><th></th><th></th><th></th><th></th></tr></thead>\n",
       "<thead><tr><th>object</th><th>str13</th><th>str13</th><th>int16</th><th>int16</th><th>float32</th><th>float32</th><th>int16</th><th>str1</th><th>str1</th><th>object</th><th>int32</th></tr></thead>\n",
       "<tr><td>M  57</td><td>18 53 35.0967</td><td>+33 01 44.883</td><td>14</td><td>14</td><td>0.033</td><td>0.038</td><td>90</td><td>A</td><td>O</td><td>2020yCat.1350....0G</td><td>1</td></tr>\n",
       "</table></div>"
      ],
      "text/plain": [
       "<Table length=1>\n",
       "MAIN_ID       RA           DEC      ...     COO_BIBCODE     SCRIPT_NUMBER_ID\n",
       "           \"h:m:s\"       \"d:m:s\"    ...                                     \n",
       " object     str13         str13     ...        object            int32      \n",
       "------- ------------- ------------- ... ------------------- ----------------\n",
       "  M  57 18 53 35.0967 +33 01 44.883 ... 2020yCat.1350....0G                1"
      ]
     },
     "execution_count": 9,
     "metadata": {},
     "output_type": "execute_result"
    }
   ],
   "source": [
    "result_table = Simbad.query_object(\"M57\")\n",
    "result_table"
   ]
  },
  {
   "cell_type": "markdown",
   "metadata": {},
   "source": [
    "Wildcards and ranges can be used for identifiers"
   ]
  },
  {
   "cell_type": "code",
   "execution_count": 11,
   "metadata": {},
   "outputs": [
    {
     "data": {
      "text/html": [
       "<div><i>Table length=9</i>\n",
       "<table id=\"table140420661930640\" class=\"table-striped table-bordered table-condensed\">\n",
       "<thead><tr><th>MAIN_ID</th><th>RA</th><th>DEC</th><th>RA_PREC</th><th>DEC_PREC</th><th>COO_ERR_MAJA</th><th>COO_ERR_MINA</th><th>COO_ERR_ANGLE</th><th>COO_QUAL</th><th>COO_WAVELENGTH</th><th>COO_BIBCODE</th><th>SCRIPT_NUMBER_ID</th></tr></thead>\n",
       "<thead><tr><th></th><th>&quot;h:m:s&quot;</th><th>&quot;d:m:s&quot;</th><th></th><th></th><th>mas</th><th>mas</th><th>deg</th><th></th><th></th><th></th><th></th></tr></thead>\n",
       "<thead><tr><th>object</th><th>str13</th><th>str13</th><th>int16</th><th>int16</th><th>float32</th><th>float32</th><th>int16</th><th>str1</th><th>str1</th><th>object</th><th>int32</th></tr></thead>\n",
       "<tr><td>M   1</td><td>05 34 30.9</td><td>+22 00 53</td><td>5</td><td>5</td><td>18500.000</td><td>18500.000</td><td>0</td><td>E</td><td>R</td><td>1995AuJPh..48..143S</td><td>1</td></tr>\n",
       "<tr><td>M   2</td><td>21 33 27.02</td><td>-00 49 23.7</td><td>6</td><td>6</td><td>--</td><td>--</td><td>0</td><td>D</td><td>O</td><td>2010AJ....140.1830G</td><td>1</td></tr>\n",
       "<tr><td>M   3</td><td>13 42 11.62</td><td>+28 22 38.2</td><td>6</td><td>6</td><td>--</td><td>--</td><td>0</td><td>D</td><td>O</td><td>2010AJ....140.1830G</td><td>1</td></tr>\n",
       "<tr><td>M   4</td><td>16 23 35.22</td><td>-26 31 32.7</td><td>6</td><td>6</td><td>--</td><td>--</td><td>0</td><td>D</td><td>O</td><td>2010AJ....140.1830G</td><td>1</td></tr>\n",
       "<tr><td>M   5</td><td>15 18 33.22</td><td>+02 04 51.7</td><td>6</td><td>6</td><td>--</td><td>--</td><td>0</td><td>D</td><td>O</td><td>2010AJ....140.1830G</td><td>1</td></tr>\n",
       "<tr><td>NGC  6405</td><td>17 40 16.6</td><td>-32 14 31</td><td>5</td><td>5</td><td>--</td><td>--</td><td>0</td><td>D</td><td>O</td><td>2021A&amp;A...647A..19T</td><td>1</td></tr>\n",
       "<tr><td>NGC  6475</td><td>17 53 47.3</td><td>-34 50 28</td><td>5</td><td>5</td><td>--</td><td>--</td><td>0</td><td>D</td><td>O</td><td>2021A&amp;A...647A..19T</td><td>1</td></tr>\n",
       "<tr><td>M   8</td><td>18 03 37</td><td>-24 23.2</td><td>4</td><td>4</td><td>--</td><td>--</td><td>0</td><td>E</td><td></td><td></td><td>1</td></tr>\n",
       "<tr><td>M   9</td><td>17 19 11.78</td><td>-18 30 58.5</td><td>6</td><td>6</td><td>--</td><td>--</td><td>0</td><td>D</td><td></td><td>2002MNRAS.332..441F</td><td>1</td></tr>\n",
       "</table></div>"
      ],
      "text/plain": [
       "<Table length=9>\n",
       " MAIN_ID       RA         DEC     ...     COO_BIBCODE     SCRIPT_NUMBER_ID\n",
       "            \"h:m:s\"     \"d:m:s\"   ...                                     \n",
       "  object     str13       str13    ...        object            int32      \n",
       "--------- ----------- ----------- ... ------------------- ----------------\n",
       "    M   1  05 34 30.9   +22 00 53 ... 1995AuJPh..48..143S                1\n",
       "    M   2 21 33 27.02 -00 49 23.7 ... 2010AJ....140.1830G                1\n",
       "    M   3 13 42 11.62 +28 22 38.2 ... 2010AJ....140.1830G                1\n",
       "    M   4 16 23 35.22 -26 31 32.7 ... 2010AJ....140.1830G                1\n",
       "    M   5 15 18 33.22 +02 04 51.7 ... 2010AJ....140.1830G                1\n",
       "NGC  6405  17 40 16.6   -32 14 31 ... 2021A&A...647A..19T                1\n",
       "NGC  6475  17 53 47.3   -34 50 28 ... 2021A&A...647A..19T                1\n",
       "    M   8    18 03 37    -24 23.2 ...                                    1\n",
       "    M   9 17 19 11.78 -18 30 58.5 ... 2002MNRAS.332..441F                1"
      ]
     },
     "execution_count": 11,
     "metadata": {},
     "output_type": "execute_result"
    }
   ],
   "source": [
    "result_table = Simbad.query_object(\"m [1-9]\", wildcard=True)\n",
    "result_table"
   ]
  },
  {
   "cell_type": "code",
   "execution_count": 10,
   "metadata": {},
   "outputs": [
    {
     "data": {
      "text/html": [
       "<div><i>Table length=8</i>\n",
       "<table id=\"table140420661928976\" class=\"table-striped table-bordered table-condensed\">\n",
       "<thead><tr><th>MAIN_ID</th><th>RA</th><th>DEC</th><th>RA_PREC</th><th>DEC_PREC</th><th>COO_ERR_MAJA</th><th>COO_ERR_MINA</th><th>COO_ERR_ANGLE</th><th>COO_QUAL</th><th>COO_WAVELENGTH</th><th>COO_BIBCODE</th><th>SCRIPT_NUMBER_ID</th></tr></thead>\n",
       "<thead><tr><th></th><th>&quot;h:m:s&quot;</th><th>&quot;d:m:s&quot;</th><th></th><th></th><th>mas</th><th>mas</th><th>deg</th><th></th><th></th><th></th><th></th></tr></thead>\n",
       "<thead><tr><th>object</th><th>str13</th><th>str13</th><th>int16</th><th>int16</th><th>float32</th><th>float32</th><th>int16</th><th>str1</th><th>str1</th><th>object</th><th>int32</th></tr></thead>\n",
       "<tr><td>M  57</td><td>18 53 35.0967</td><td>+33 01 44.883</td><td>14</td><td>14</td><td>0.033</td><td>0.038</td><td>90</td><td>A</td><td>O</td><td>2020yCat.1350....0G</td><td>1</td></tr>\n",
       "<tr><td>UCAC3 247-143405</td><td>18 53 34.1995</td><td>+33 02 55.423</td><td>14</td><td>14</td><td>0.015</td><td>0.018</td><td>90</td><td>A</td><td>O</td><td>2020yCat.1350....0G</td><td>1</td></tr>\n",
       "<tr><td>UCAC3 247-143401</td><td>18 53 33.8083</td><td>+33 02 54.923</td><td>14</td><td>14</td><td>0.018</td><td>0.021</td><td>90</td><td>A</td><td>O</td><td>2020yCat.1350....0G</td><td>1</td></tr>\n",
       "<tr><td>UCAC2  43471160</td><td>18 53 34.2870</td><td>+33 03 14.297</td><td>14</td><td>14</td><td>1.504</td><td>1.547</td><td>90</td><td>C</td><td>O</td><td>2020yCat.1350....0G</td><td>1</td></tr>\n",
       "<tr><td>GB6 J1853+3301</td><td>18 53 41</td><td>+33 03.0</td><td>4</td><td>4</td><td>--</td><td>--</td><td>0</td><td>E</td><td>R</td><td>2013ApJS..208...20B</td><td>1</td></tr>\n",
       "<tr><td>1RXS J185326.3+330027</td><td>18 53 26.302</td><td>+33 00 27.00</td><td>7</td><td>7</td><td>--</td><td>--</td><td>0</td><td>E</td><td></td><td>2000IAUC.7432R...1V</td><td>1</td></tr>\n",
       "<tr><td>LEDA 2813726</td><td>18 53 46.0</td><td>+32 58 53</td><td>5</td><td>5</td><td>--</td><td>--</td><td>0</td><td>D</td><td>O</td><td>2003A&amp;A...412...45P</td><td>1</td></tr>\n",
       "<tr><td>IC 1296</td><td>18 53 18.8159</td><td>+33 03 59.894</td><td>14</td><td>14</td><td>18.964</td><td>54.704</td><td>90</td><td>C</td><td>O</td><td>2020yCat.1350....0G</td><td>1</td></tr>\n",
       "</table></div>"
      ],
      "text/plain": [
       "<Table length=8>\n",
       "       MAIN_ID              RA      ...     COO_BIBCODE     SCRIPT_NUMBER_ID\n",
       "                         \"h:m:s\"    ...                                     \n",
       "        object            str13     ...        object            int32      \n",
       "--------------------- ------------- ... ------------------- ----------------\n",
       "                M  57 18 53 35.0967 ... 2020yCat.1350....0G                1\n",
       "     UCAC3 247-143405 18 53 34.1995 ... 2020yCat.1350....0G                1\n",
       "     UCAC3 247-143401 18 53 33.8083 ... 2020yCat.1350....0G                1\n",
       "      UCAC2  43471160 18 53 34.2870 ... 2020yCat.1350....0G                1\n",
       "       GB6 J1853+3301      18 53 41 ... 2013ApJS..208...20B                1\n",
       "1RXS J185326.3+330027  18 53 26.302 ... 2000IAUC.7432R...1V                1\n",
       "         LEDA 2813726    18 53 46.0 ... 2003A&A...412...45P                1\n",
       "              IC 1296 18 53 18.8159 ... 2020yCat.1350....0G                1"
      ]
     },
     "execution_count": 10,
     "metadata": {},
     "output_type": "execute_result"
    }
   ],
   "source": [
    "coord = coordinates.SkyCoord(\"18h53m35s +33d01m45s\", frame='icrs')\n",
    "radius = 5 * u.arcminute\n",
    "\n",
    "result_table = Simbad.query_region(coord, radius=radius)\n",
    "result_table"
   ]
  }
 ],
 "metadata": {
  "kernelspec": {
   "display_name": "base",
   "language": "python",
   "name": "python3"
  },
  "language_info": {
   "codemirror_mode": {
    "name": "ipython",
    "version": 3
   },
   "file_extension": ".py",
   "mimetype": "text/x-python",
   "name": "python",
   "nbconvert_exporter": "python",
   "pygments_lexer": "ipython3",
   "version": "3.11.6"
  }
 },
 "nbformat": 4,
 "nbformat_minor": 2
}
