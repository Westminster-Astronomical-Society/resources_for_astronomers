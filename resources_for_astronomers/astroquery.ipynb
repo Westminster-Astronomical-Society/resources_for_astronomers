{
 "cells": [
  {
   "cell_type": "markdown",
   "metadata": {},
   "source": [
    " <picture>\n",
    " <source media=\"(prefers-color-scheme: dark)\" srcset=\"_images/astroquery_project_logo_dark.svg\">\n",
    " <source media=\"(prefers-color-scheme: light)\" srcset=\"_images/astroquery_project_logo.svg\">\n",
    " <img  class= \"dark-light\" alt=\"\" style=\"float:right;height:50px;padding-right:20px;\">\n",
    "</picture>"
   ]
  },
  {
   "cell_type": "markdown",
   "metadata": {},
   "source": [
    "\n",
    "# Astroquery Examples\n",
    "\n",
    "Astroquery ( [https://astroquery.readthedocs.io](https://astroquery.readthedocs.io) )\n",
    "is a set of tools for querying astronomical web forms and databases. It is a coordinated package\n",
    "of the Astropy project ( [http://www.astropy.org](http://www.astropy.org/) )."
   ]
  },
  {
   "cell_type": "markdown",
   "metadata": {},
   "source": [
    "General imports:"
   ]
  },
  {
   "cell_type": "code",
   "execution_count": 4,
   "metadata": {},
   "outputs": [],
   "source": [
    "from astropy import coordinates\n",
    "import astropy.units as u\n",
    "\n",
    "from astroquery.simbad import Simbad\n",
    "from astroquery.vizier import Vizier"
   ]
  },
  {
   "cell_type": "markdown",
   "metadata": {},
   "source": [
    "## SIMBAD queries\n",
    "\n",
    "SIMBAD allows for simple queries based on coordinates or object names."
   ]
  },
  {
   "cell_type": "markdown",
   "metadata": {},
   "source": [
    "### Query by target ID"
   ]
  },
  {
   "cell_type": "markdown",
   "metadata": {},
   "source": [
    "Use `query_object()` to query for a single object ID."
   ]
  },
  {
   "cell_type": "code",
   "execution_count": 23,
   "metadata": {},
   "outputs": [
    {
     "data": {
      "text/html": [
       "<i>Table length=1</i>\n",
       "<table id=\"table140255451594384-266683\" class=\"colwidths-auto table\">\n",
       "<thead><tr><th>idx</th><th>MAIN_ID</th><th>RA</th><th>DEC</th></tr></thead>\n",
       "<thead><tr><th></th><th></th><th>&quot;h:m:s&quot;</th><th>&quot;d:m:s&quot;</th></tr></thead>\n",
       "<tr><td>0</td><td>M  57</td><td>18 53 35.0967</td><td>+33 01 44.883</td></tr>\n",
       "</table><style>table.dataTable {clear: both; width: auto !important; margin: 0 !important;}\n",
       ".dataTables_info, .dataTables_length, .dataTables_filter, .dataTables_paginate{\n",
       "display: inline-block; margin-right: 1em; }\n",
       ".paginate_button { margin-right: 5px; }\n",
       "</style>\n",
       "<script>\n",
       "\n",
       "var astropy_sort_num = function(a, b) {\n",
       "    var a_num = parseFloat(a);\n",
       "    var b_num = parseFloat(b);\n",
       "\n",
       "    if (isNaN(a_num) && isNaN(b_num))\n",
       "        return ((a < b) ? -1 : ((a > b) ? 1 : 0));\n",
       "    else if (!isNaN(a_num) && !isNaN(b_num))\n",
       "        return ((a_num < b_num) ? -1 : ((a_num > b_num) ? 1 : 0));\n",
       "    else\n",
       "        return isNaN(a_num) ? -1 : 1;\n",
       "}\n",
       "\n",
       "require.config({paths: {\n",
       "    datatables: 'https://cdn.datatables.net/1.10.12/js/jquery.dataTables.min'\n",
       "}});\n",
       "require([\"datatables\"], function(){\n",
       "    console.log(\"$('#table140255451594384-266683').dataTable()\");\n",
       "    \n",
       "jQuery.extend( jQuery.fn.dataTableExt.oSort, {\n",
       "    \"optionalnum-asc\": astropy_sort_num,\n",
       "    \"optionalnum-desc\": function (a,b) { return -astropy_sort_num(a, b); }\n",
       "});\n",
       "\n",
       "    $('#table140255451594384-266683').dataTable({\n",
       "        order: [],\n",
       "        pageLength: 50,\n",
       "        lengthMenu: [[10, 25, 50, 100, 500, 1000, -1], [10, 25, 50, 100, 500, 1000, 'All']],\n",
       "        pagingType: \"full_numbers\",\n",
       "        columnDefs: [{targets: [0], type: \"optionalnum\"}]\n",
       "    });\n",
       "});\n",
       "</script>\n"
      ],
      "text/plain": [
       "<IPython.core.display.HTML object>"
      ]
     },
     "execution_count": 23,
     "metadata": {},
     "output_type": "execute_result"
    }
   ],
   "source": [
    "result_table = Simbad.query_object(\"M57\")\n",
    "result_table['MAIN_ID', 'RA', 'DEC'].show_in_notebook()"
   ]
  },
  {
   "cell_type": "markdown",
   "metadata": {},
   "source": [
    "You can get a list of object IDs with `quey_objectids()`."
   ]
  },
  {
   "cell_type": "code",
   "execution_count": 25,
   "metadata": {},
   "outputs": [
    {
     "data": {
      "text/html": [
       "<i>Table length=34</i>\n",
       "<table id=\"table140253789529488-158265\" class=\"table-striped table-bordered table-condensed\">\n",
       "<thead><tr><th>idx</th><th>ID</th></tr></thead>\n",
       "<tr><td>0</td><td>Gaia DR3 2090486618786534784</td></tr>\n",
       "<tr><td>1</td><td>PLX 4377</td></tr>\n",
       "<tr><td>2</td><td>BD+32  3246</td></tr>\n",
       "<tr><td>3</td><td>CSI+32-18517</td></tr>\n",
       "<tr><td>4</td><td>GCRV 11366</td></tr>\n",
       "<tr><td>5</td><td>GSC2 N0223131306</td></tr>\n",
       "<tr><td>6</td><td>HD 175353</td></tr>\n",
       "<tr><td>7</td><td>IRAS 18517+3257</td></tr>\n",
       "<tr><td>8</td><td>M  57</td></tr>\n",
       "<tr><td>9</td><td>NGC  6720</td></tr>\n",
       "<tr><td>10</td><td>PK 063+13  1</td></tr>\n",
       "<tr><td>11</td><td>PK 063+13</td></tr>\n",
       "<tr><td>12</td><td>PN G063.1+13.9</td></tr>\n",
       "<tr><td>13</td><td>PN ARO    9</td></tr>\n",
       "<tr><td>14</td><td>PN VV  214</td></tr>\n",
       "<tr><td>15</td><td>PN VV&apos;  466</td></tr>\n",
       "<tr><td>16</td><td>WD 1851+329</td></tr>\n",
       "<tr><td>17</td><td>[LFO93] 1851+32</td></tr>\n",
       "<tr><td>18</td><td>PLX 4377.00</td></tr>\n",
       "<tr><td>19</td><td>NAME Ring Nebula</td></tr>\n",
       "<tr><td>20</td><td>[D71] 1851+32</td></tr>\n",
       "<tr><td>21</td><td>[FA87] 1851+329</td></tr>\n",
       "<tr><td>22</td><td>[A86] 1851+329</td></tr>\n",
       "<tr><td>23</td><td>B2.1 1851+32</td></tr>\n",
       "<tr><td>24</td><td>BWE 1851+3257</td></tr>\n",
       "<tr><td>25</td><td>GB6 B1851+3257</td></tr>\n",
       "<tr><td>26</td><td>MITG J185334+3301</td></tr>\n",
       "<tr><td>27</td><td>MITG J185337+3301</td></tr>\n",
       "<tr><td>28</td><td>NVSS J185335+330145</td></tr>\n",
       "<tr><td>29</td><td>WB 1851+3257</td></tr>\n",
       "<tr><td>30</td><td>87GB 185143.8+325740</td></tr>\n",
       "<tr><td>31</td><td>WN B1851.7+3257</td></tr>\n",
       "<tr><td>32</td><td>WEB 16043</td></tr>\n",
       "<tr><td>33</td><td>Gaia DR2 2090486618786534784</td></tr>\n",
       "</table><style>table.dataTable {clear: both; width: auto !important; margin: 0 !important;}\n",
       ".dataTables_info, .dataTables_length, .dataTables_filter, .dataTables_paginate{\n",
       "display: inline-block; margin-right: 1em; }\n",
       ".paginate_button { margin-right: 5px; }\n",
       "</style>\n",
       "<script>\n",
       "\n",
       "var astropy_sort_num = function(a, b) {\n",
       "    var a_num = parseFloat(a);\n",
       "    var b_num = parseFloat(b);\n",
       "\n",
       "    if (isNaN(a_num) && isNaN(b_num))\n",
       "        return ((a < b) ? -1 : ((a > b) ? 1 : 0));\n",
       "    else if (!isNaN(a_num) && !isNaN(b_num))\n",
       "        return ((a_num < b_num) ? -1 : ((a_num > b_num) ? 1 : 0));\n",
       "    else\n",
       "        return isNaN(a_num) ? -1 : 1;\n",
       "}\n",
       "\n",
       "require.config({paths: {\n",
       "    datatables: 'https://cdn.datatables.net/1.10.12/js/jquery.dataTables.min'\n",
       "}});\n",
       "require([\"datatables\"], function(){\n",
       "    console.log(\"$('#table140253789529488-158265').dataTable()\");\n",
       "    \n",
       "jQuery.extend( jQuery.fn.dataTableExt.oSort, {\n",
       "    \"optionalnum-asc\": astropy_sort_num,\n",
       "    \"optionalnum-desc\": function (a,b) { return -astropy_sort_num(a, b); }\n",
       "});\n",
       "\n",
       "    $('#table140253789529488-158265').dataTable({\n",
       "        order: [],\n",
       "        pageLength: 10,\n",
       "        lengthMenu: [[10, 25, 50, 100, 500, 1000, -1], [10, 25, 50, 100, 500, 1000, 'All']],\n",
       "        pagingType: \"full_numbers\",\n",
       "        columnDefs: [{targets: [0], type: \"optionalnum\"}]\n",
       "    });\n",
       "});\n",
       "</script>\n"
      ],
      "text/plain": [
       "<IPython.core.display.HTML object>"
      ]
     },
     "execution_count": 25,
     "metadata": {},
     "output_type": "execute_result"
    }
   ],
   "source": [
    "IDs = Simbad.query_objectids(\"Ring Nebula\")\n",
    "IDs.show_in_notebook(display_length=10)"
   ]
  },
  {
   "cell_type": "markdown",
   "metadata": {},
   "source": [
    "You can query a list of objects with `query_objects()`. This is more efficient than repeated requests for single objects. There are rate limits that may vary, but you should not submit more than ~5-10 queries per second. A list is treated as a single request and will not result in overtaxing the server."
   ]
  },
  {
   "cell_type": "code",
   "execution_count": 3,
   "metadata": {},
   "outputs": [
    {
     "data": {
      "text/html": [
       "<i>Table length=4</i>\n",
       "<table id=\"table140253792664336-827884\" class=\"table-striped table-bordered table-condensed\">\n",
       "<thead><tr><th>idx</th><th>MAIN_ID</th><th>RA</th><th>DEC</th></tr></thead>\n",
       "<thead><tr><th></th><th></th><th>&quot;h:m:s&quot;</th><th>&quot;d:m:s&quot;</th></tr></thead>\n",
       "<tr><td>0</td><td>M   1</td><td>05 34 30.9</td><td>+22 00 53</td></tr>\n",
       "<tr><td>1</td><td>M   2</td><td>21 33 27.02</td><td>-00 49 23.7</td></tr>\n",
       "<tr><td>2</td><td>M   3</td><td>13 42 11.62</td><td>+28 22 38.2</td></tr>\n",
       "<tr><td>3</td><td>M   4</td><td>16 23 35.22</td><td>-26 31 32.7</td></tr>\n",
       "</table><style>table.dataTable {clear: both; width: auto !important; margin: 0 !important;}\n",
       ".dataTables_info, .dataTables_length, .dataTables_filter, .dataTables_paginate{\n",
       "display: inline-block; margin-right: 1em; }\n",
       ".paginate_button { margin-right: 5px; }\n",
       "</style>\n",
       "<script>\n",
       "\n",
       "var astropy_sort_num = function(a, b) {\n",
       "    var a_num = parseFloat(a);\n",
       "    var b_num = parseFloat(b);\n",
       "\n",
       "    if (isNaN(a_num) && isNaN(b_num))\n",
       "        return ((a < b) ? -1 : ((a > b) ? 1 : 0));\n",
       "    else if (!isNaN(a_num) && !isNaN(b_num))\n",
       "        return ((a_num < b_num) ? -1 : ((a_num > b_num) ? 1 : 0));\n",
       "    else\n",
       "        return isNaN(a_num) ? -1 : 1;\n",
       "}\n",
       "\n",
       "require.config({paths: {\n",
       "    datatables: 'https://cdn.datatables.net/1.10.12/js/jquery.dataTables.min'\n",
       "}});\n",
       "require([\"datatables\"], function(){\n",
       "    console.log(\"$('#table140253792664336-827884').dataTable()\");\n",
       "    \n",
       "jQuery.extend( jQuery.fn.dataTableExt.oSort, {\n",
       "    \"optionalnum-asc\": astropy_sort_num,\n",
       "    \"optionalnum-desc\": function (a,b) { return -astropy_sort_num(a, b); }\n",
       "});\n",
       "\n",
       "    $('#table140253792664336-827884').dataTable({\n",
       "        order: [],\n",
       "        pageLength: 50,\n",
       "        lengthMenu: [[10, 25, 50, 100, 500, 1000, -1], [10, 25, 50, 100, 500, 1000, 'All']],\n",
       "        pagingType: \"full_numbers\",\n",
       "        columnDefs: [{targets: [0], type: \"optionalnum\"}]\n",
       "    });\n",
       "});\n",
       "</script>\n"
      ],
      "text/plain": [
       "<IPython.core.display.HTML object>"
      ]
     },
     "execution_count": 3,
     "metadata": {},
     "output_type": "execute_result"
    }
   ],
   "source": [
    "result_table = Simbad.query_objects([\"M1\", \"M2\", \"M3\", \"M4\"])\n",
    "result_table['MAIN_ID', 'RA', 'DEC'].show_in_notebook()"
   ]
  },
  {
   "cell_type": "markdown",
   "metadata": {},
   "source": [
    "Wildcards and ranges can be used for identifiers.\n",
    "\n",
    "`*` : Any string of characters (including an empty one)\n",
    "\n",
    "`?` : Any character (exactly one character)\n",
    "\n",
    "`[abc]` : Exactly one character taken from the list.\n",
    "\n",
    "`[A-Z]` : Can also be defined by a range of characters.\n",
    "\n",
    "`[^0-9]` : Any (one) character not in the list."
   ]
  },
  {
   "cell_type": "code",
   "execution_count": 4,
   "metadata": {},
   "outputs": [
    {
     "data": {
      "text/html": [
       "<i>Table length=9</i>\n",
       "<table id=\"table140255449563216-360108\" class=\"table-striped table-bordered table-condensed\">\n",
       "<thead><tr><th>idx</th><th>MAIN_ID</th><th>RA</th><th>DEC</th></tr></thead>\n",
       "<thead><tr><th></th><th></th><th>&quot;h:m:s&quot;</th><th>&quot;d:m:s&quot;</th></tr></thead>\n",
       "<tr><td>0</td><td>M   1</td><td>05 34 30.9</td><td>+22 00 53</td></tr>\n",
       "<tr><td>1</td><td>M   2</td><td>21 33 27.02</td><td>-00 49 23.7</td></tr>\n",
       "<tr><td>2</td><td>M   3</td><td>13 42 11.62</td><td>+28 22 38.2</td></tr>\n",
       "<tr><td>3</td><td>M   4</td><td>16 23 35.22</td><td>-26 31 32.7</td></tr>\n",
       "<tr><td>4</td><td>M   5</td><td>15 18 33.22</td><td>+02 04 51.7</td></tr>\n",
       "<tr><td>5</td><td>NGC  6405</td><td>17 40 16.6</td><td>-32 14 31</td></tr>\n",
       "<tr><td>6</td><td>NGC  6475</td><td>17 53 47.3</td><td>-34 50 28</td></tr>\n",
       "<tr><td>7</td><td>M   8</td><td>18 03 37</td><td>-24 23.2</td></tr>\n",
       "<tr><td>8</td><td>M   9</td><td>17 19 11.78</td><td>-18 30 58.5</td></tr>\n",
       "</table><style>table.dataTable {clear: both; width: auto !important; margin: 0 !important;}\n",
       ".dataTables_info, .dataTables_length, .dataTables_filter, .dataTables_paginate{\n",
       "display: inline-block; margin-right: 1em; }\n",
       ".paginate_button { margin-right: 5px; }\n",
       "</style>\n",
       "<script>\n",
       "\n",
       "var astropy_sort_num = function(a, b) {\n",
       "    var a_num = parseFloat(a);\n",
       "    var b_num = parseFloat(b);\n",
       "\n",
       "    if (isNaN(a_num) && isNaN(b_num))\n",
       "        return ((a < b) ? -1 : ((a > b) ? 1 : 0));\n",
       "    else if (!isNaN(a_num) && !isNaN(b_num))\n",
       "        return ((a_num < b_num) ? -1 : ((a_num > b_num) ? 1 : 0));\n",
       "    else\n",
       "        return isNaN(a_num) ? -1 : 1;\n",
       "}\n",
       "\n",
       "require.config({paths: {\n",
       "    datatables: 'https://cdn.datatables.net/1.10.12/js/jquery.dataTables.min'\n",
       "}});\n",
       "require([\"datatables\"], function(){\n",
       "    console.log(\"$('#table140255449563216-360108').dataTable()\");\n",
       "    \n",
       "jQuery.extend( jQuery.fn.dataTableExt.oSort, {\n",
       "    \"optionalnum-asc\": astropy_sort_num,\n",
       "    \"optionalnum-desc\": function (a,b) { return -astropy_sort_num(a, b); }\n",
       "});\n",
       "\n",
       "    $('#table140255449563216-360108').dataTable({\n",
       "        order: [],\n",
       "        pageLength: 50,\n",
       "        lengthMenu: [[10, 25, 50, 100, 500, 1000, -1], [10, 25, 50, 100, 500, 1000, 'All']],\n",
       "        pagingType: \"full_numbers\",\n",
       "        columnDefs: [{targets: [0], type: \"optionalnum\"}]\n",
       "    });\n",
       "});\n",
       "</script>\n"
      ],
      "text/plain": [
       "<IPython.core.display.HTML object>"
      ]
     },
     "execution_count": 4,
     "metadata": {},
     "output_type": "execute_result"
    }
   ],
   "source": [
    "result_table = Simbad.query_object(\"m [1-9]\", wildcard=True)\n",
    "result_table['MAIN_ID', 'RA', 'DEC'].show_in_notebook()"
   ]
  },
  {
   "cell_type": "markdown",
   "metadata": {},
   "source": [
    "Generating a list of targets programmatically may be easier and more reliable than wildcard searches."
   ]
  },
  {
   "cell_type": "code",
   "execution_count": 5,
   "metadata": {},
   "outputs": [
    {
     "data": {
      "text/plain": [
       "['M1', 'M2', 'M3', 'M4', 'M5', 'M6', 'M7', 'M8', 'M9', 'M10']"
      ]
     },
     "execution_count": 5,
     "metadata": {},
     "output_type": "execute_result"
    }
   ],
   "source": [
    "targets = [f'M{_}'for _ in range(1,11)]; targets"
   ]
  },
  {
   "cell_type": "code",
   "execution_count": 6,
   "metadata": {},
   "outputs": [
    {
     "data": {
      "text/html": [
       "<i>Table length=10</i>\n",
       "<table id=\"table140253792788944-479334\" class=\"table-striped table-bordered table-condensed\">\n",
       "<thead><tr><th>idx</th><th>MAIN_ID</th><th>RA</th><th>DEC</th></tr></thead>\n",
       "<thead><tr><th></th><th></th><th>&quot;h:m:s&quot;</th><th>&quot;d:m:s&quot;</th></tr></thead>\n",
       "<tr><td>0</td><td>M   1</td><td>05 34 30.9</td><td>+22 00 53</td></tr>\n",
       "<tr><td>1</td><td>M   2</td><td>21 33 27.02</td><td>-00 49 23.7</td></tr>\n",
       "<tr><td>2</td><td>M   3</td><td>13 42 11.62</td><td>+28 22 38.2</td></tr>\n",
       "<tr><td>3</td><td>M   4</td><td>16 23 35.22</td><td>-26 31 32.7</td></tr>\n",
       "<tr><td>4</td><td>M   5</td><td>15 18 33.22</td><td>+02 04 51.7</td></tr>\n",
       "<tr><td>5</td><td>NGC  6405</td><td>17 40 16.6</td><td>-32 14 31</td></tr>\n",
       "<tr><td>6</td><td>NGC  6475</td><td>17 53 47.3</td><td>-34 50 28</td></tr>\n",
       "<tr><td>7</td><td>M   8</td><td>18 03 37</td><td>-24 23.2</td></tr>\n",
       "<tr><td>8</td><td>M   9</td><td>17 19 11.78</td><td>-18 30 58.5</td></tr>\n",
       "<tr><td>9</td><td>M  10</td><td>16 57 09.05</td><td>-04 06 01.1</td></tr>\n",
       "</table><style>table.dataTable {clear: both; width: auto !important; margin: 0 !important;}\n",
       ".dataTables_info, .dataTables_length, .dataTables_filter, .dataTables_paginate{\n",
       "display: inline-block; margin-right: 1em; }\n",
       ".paginate_button { margin-right: 5px; }\n",
       "</style>\n",
       "<script>\n",
       "\n",
       "var astropy_sort_num = function(a, b) {\n",
       "    var a_num = parseFloat(a);\n",
       "    var b_num = parseFloat(b);\n",
       "\n",
       "    if (isNaN(a_num) && isNaN(b_num))\n",
       "        return ((a < b) ? -1 : ((a > b) ? 1 : 0));\n",
       "    else if (!isNaN(a_num) && !isNaN(b_num))\n",
       "        return ((a_num < b_num) ? -1 : ((a_num > b_num) ? 1 : 0));\n",
       "    else\n",
       "        return isNaN(a_num) ? -1 : 1;\n",
       "}\n",
       "\n",
       "require.config({paths: {\n",
       "    datatables: 'https://cdn.datatables.net/1.10.12/js/jquery.dataTables.min'\n",
       "}});\n",
       "require([\"datatables\"], function(){\n",
       "    console.log(\"$('#table140253792788944-479334').dataTable()\");\n",
       "    \n",
       "jQuery.extend( jQuery.fn.dataTableExt.oSort, {\n",
       "    \"optionalnum-asc\": astropy_sort_num,\n",
       "    \"optionalnum-desc\": function (a,b) { return -astropy_sort_num(a, b); }\n",
       "});\n",
       "\n",
       "    $('#table140253792788944-479334').dataTable({\n",
       "        order: [],\n",
       "        pageLength: 50,\n",
       "        lengthMenu: [[10, 25, 50, 100, 500, 1000, -1], [10, 25, 50, 100, 500, 1000, 'All']],\n",
       "        pagingType: \"full_numbers\",\n",
       "        columnDefs: [{targets: [0], type: \"optionalnum\"}]\n",
       "    });\n",
       "});\n",
       "</script>\n"
      ],
      "text/plain": [
       "<IPython.core.display.HTML object>"
      ]
     },
     "execution_count": 6,
     "metadata": {},
     "output_type": "execute_result"
    }
   ],
   "source": [
    "result_table = Simbad.query_objects(targets)\n",
    "result_table['MAIN_ID', 'RA', 'DEC'].show_in_notebook()"
   ]
  },
  {
   "cell_type": "markdown",
   "metadata": {},
   "source": [
    "### Query by region"
   ]
  },
  {
   "cell_type": "markdown",
   "metadata": {},
   "source": [
    "You can query all objects in a region with `query_region()`. \n",
    "Use a coordinate or object ID and a radius. When no radius is specified, the radius defaults to 20 arcmin.\n",
    "Coordinates should be an Astropy `SkyCoord()` object and the radius a Astropy `Quantity()`."
   ]
  },
  {
   "cell_type": "code",
   "execution_count": 7,
   "metadata": {},
   "outputs": [
    {
     "data": {
      "text/html": [
       "<i>Table length=8</i>\n",
       "<table id=\"table140253791083216-285385\" class=\"table-striped table-bordered table-condensed\">\n",
       "<thead><tr><th>idx</th><th>MAIN_ID</th><th>RA</th><th>DEC</th></tr></thead>\n",
       "<thead><tr><th></th><th></th><th>&quot;h:m:s&quot;</th><th>&quot;d:m:s&quot;</th></tr></thead>\n",
       "<tr><td>0</td><td>M  57</td><td>18 53 35.0967</td><td>+33 01 44.883</td></tr>\n",
       "<tr><td>1</td><td>UCAC3 247-143405</td><td>18 53 34.1995</td><td>+33 02 55.423</td></tr>\n",
       "<tr><td>2</td><td>UCAC3 247-143401</td><td>18 53 33.8083</td><td>+33 02 54.923</td></tr>\n",
       "<tr><td>3</td><td>UCAC2  43471160</td><td>18 53 34.2870</td><td>+33 03 14.297</td></tr>\n",
       "<tr><td>4</td><td>GB6 J1853+3301</td><td>18 53 41</td><td>+33 03.0</td></tr>\n",
       "<tr><td>5</td><td>1RXS J185326.3+330027</td><td>18 53 26.302</td><td>+33 00 27.00</td></tr>\n",
       "<tr><td>6</td><td>LEDA 2813726</td><td>18 53 46.0</td><td>+32 58 53</td></tr>\n",
       "<tr><td>7</td><td>IC 1296</td><td>18 53 18.8159</td><td>+33 03 59.894</td></tr>\n",
       "</table><style>table.dataTable {clear: both; width: auto !important; margin: 0 !important;}\n",
       ".dataTables_info, .dataTables_length, .dataTables_filter, .dataTables_paginate{\n",
       "display: inline-block; margin-right: 1em; }\n",
       ".paginate_button { margin-right: 5px; }\n",
       "</style>\n",
       "<script>\n",
       "\n",
       "var astropy_sort_num = function(a, b) {\n",
       "    var a_num = parseFloat(a);\n",
       "    var b_num = parseFloat(b);\n",
       "\n",
       "    if (isNaN(a_num) && isNaN(b_num))\n",
       "        return ((a < b) ? -1 : ((a > b) ? 1 : 0));\n",
       "    else if (!isNaN(a_num) && !isNaN(b_num))\n",
       "        return ((a_num < b_num) ? -1 : ((a_num > b_num) ? 1 : 0));\n",
       "    else\n",
       "        return isNaN(a_num) ? -1 : 1;\n",
       "}\n",
       "\n",
       "require.config({paths: {\n",
       "    datatables: 'https://cdn.datatables.net/1.10.12/js/jquery.dataTables.min'\n",
       "}});\n",
       "require([\"datatables\"], function(){\n",
       "    console.log(\"$('#table140253791083216-285385').dataTable()\");\n",
       "    \n",
       "jQuery.extend( jQuery.fn.dataTableExt.oSort, {\n",
       "    \"optionalnum-asc\": astropy_sort_num,\n",
       "    \"optionalnum-desc\": function (a,b) { return -astropy_sort_num(a, b); }\n",
       "});\n",
       "\n",
       "    $('#table140253791083216-285385').dataTable({\n",
       "        order: [],\n",
       "        pageLength: 50,\n",
       "        lengthMenu: [[10, 25, 50, 100, 500, 1000, -1], [10, 25, 50, 100, 500, 1000, 'All']],\n",
       "        pagingType: \"full_numbers\",\n",
       "        columnDefs: [{targets: [0], type: \"optionalnum\"}]\n",
       "    });\n",
       "});\n",
       "</script>\n"
      ],
      "text/plain": [
       "<IPython.core.display.HTML object>"
      ]
     },
     "execution_count": 7,
     "metadata": {},
     "output_type": "execute_result"
    }
   ],
   "source": [
    "coord = coordinates.SkyCoord(\"18h53m35s +33d01m45s\", frame='icrs')\n",
    "radius = 5 * u.arcminute\n",
    "\n",
    "result_table = Simbad.query_region(coord, radius=radius)\n",
    "result_table['MAIN_ID', 'RA', 'DEC'].show_in_notebook()"
   ]
  },
  {
   "cell_type": "markdown",
   "metadata": {},
   "source": [
    "### Query by catalog"
   ]
  },
  {
   "cell_type": "markdown",
   "metadata": {},
   "source": [
    "You can query all objects in a catalog with `query_catalog`. \n",
    "This can return a very large table so you should set a row limit on your query.\n",
    "When querying large catalogs query by criteria is better."
   ]
  },
  {
   "cell_type": "code",
   "execution_count": 6,
   "metadata": {},
   "outputs": [
    {
     "data": {
      "text/html": [
       "<i>Table length=12</i>\n",
       "<table id=\"table139891570776720-45121\" class=\"table-striped table-bordered table-condensed\">\n",
       "<thead><tr><th>idx</th><th>MAIN_ID</th><th>RA</th><th>DEC</th></tr></thead>\n",
       "<thead><tr><th></th><th></th><th>&quot;h:m:s&quot;</th><th>&quot;d:m:s&quot;</th></tr></thead>\n",
       "<tr><td>0</td><td>NGC     1</td><td>00 07 15.8562</td><td>+27 42 29.020</td></tr>\n",
       "<tr><td>1</td><td>NGC     2</td><td>00 07 17.1156</td><td>+27 40 42.034</td></tr>\n",
       "<tr><td>2</td><td>NGC     3</td><td>00 07 16.7979</td><td>+08 18 05.976</td></tr>\n",
       "<tr><td>3</td><td>NGC     4</td><td>00 07 24.4</td><td>+08 22 30</td></tr>\n",
       "<tr><td>4</td><td>NGC     5</td><td>00 07 48.8659</td><td>+35 21 44.143</td></tr>\n",
       "<tr><td>5</td><td>NGC     7</td><td>00 08 20.96</td><td>-29 54 54.0</td></tr>\n",
       "<tr><td>6</td><td>NGC     8</td><td>00 08 45.3</td><td>+23 50 19</td></tr>\n",
       "<tr><td>7</td><td>NGC     9</td><td>00 08 54.6826</td><td>+23 49 00.823</td></tr>\n",
       "<tr><td>8</td><td>NGC    10</td><td>00 08 34.5389</td><td>-33 51 30.197</td></tr>\n",
       "<tr><td>9</td><td>NGC    11</td><td>00 08 42.494</td><td>+37 26 52.39</td></tr>\n",
       "<tr><td>10</td><td>NGC    12</td><td>00 08 44.7412</td><td>+04 36 45.267</td></tr>\n",
       "<tr><td>11</td><td>NGC    13</td><td>00 08 47.7150</td><td>+33 25 59.974</td></tr>\n",
       "</table><style>table.dataTable {clear: both; width: auto !important; margin: 0 !important;}\n",
       ".dataTables_info, .dataTables_length, .dataTables_filter, .dataTables_paginate{\n",
       "display: inline-block; margin-right: 1em; }\n",
       ".paginate_button { margin-right: 5px; }\n",
       "</style>\n",
       "<script>\n",
       "\n",
       "var astropy_sort_num = function(a, b) {\n",
       "    var a_num = parseFloat(a);\n",
       "    var b_num = parseFloat(b);\n",
       "\n",
       "    if (isNaN(a_num) && isNaN(b_num))\n",
       "        return ((a < b) ? -1 : ((a > b) ? 1 : 0));\n",
       "    else if (!isNaN(a_num) && !isNaN(b_num))\n",
       "        return ((a_num < b_num) ? -1 : ((a_num > b_num) ? 1 : 0));\n",
       "    else\n",
       "        return isNaN(a_num) ? -1 : 1;\n",
       "}\n",
       "\n",
       "require.config({paths: {\n",
       "    datatables: 'https://cdn.datatables.net/1.10.12/js/jquery.dataTables.min'\n",
       "}});\n",
       "require([\"datatables\"], function(){\n",
       "    console.log(\"$('#table139891570776720-45121').dataTable()\");\n",
       "    \n",
       "jQuery.extend( jQuery.fn.dataTableExt.oSort, {\n",
       "    \"optionalnum-asc\": astropy_sort_num,\n",
       "    \"optionalnum-desc\": function (a,b) { return -astropy_sort_num(a, b); }\n",
       "});\n",
       "\n",
       "    $('#table139891570776720-45121').dataTable({\n",
       "        order: [],\n",
       "        pageLength: 50,\n",
       "        lengthMenu: [[10, 25, 50, 100, 500, 1000, -1], [10, 25, 50, 100, 500, 1000, 'All']],\n",
       "        pagingType: \"full_numbers\",\n",
       "        columnDefs: [{targets: [0], type: \"optionalnum\"}]\n",
       "    });\n",
       "});\n",
       "</script>\n"
      ],
      "text/plain": [
       "<IPython.core.display.HTML object>"
      ]
     },
     "execution_count": 6,
     "metadata": {},
     "output_type": "execute_result"
    }
   ],
   "source": [
    "Simbad_ = Simbad()  # define a new instance of the class\n",
    "Simbad_.ROW_LIMIT = 12  # Set a row limit on that instance.\n",
    "result_table = Simbad_.query_catalog('ngc')\n",
    "result_table['MAIN_ID', 'RA', 'DEC'].show_in_notebook()"
   ]
  },
  {
   "cell_type": "markdown",
   "metadata": {},
   "source": [
    "### Query by criteria"
   ]
  },
  {
   "cell_type": "markdown",
   "metadata": {},
   "source": [
    "You can execute very specific queries using the `query_criteria()` method. These queries are formed in much the same way as they are on the web interface.\n",
    "Descriptions of [queryable fields](https://simbad.cds.unistra.fr/simbad/sim-fsam) and [object types](https://simbad.cds.unistra.fr/guide/otypes.htx)\n",
    "are on the SIMBAD website.\n",
    "\n",
    "Below is an example query for variable stars near the Trapezium."
   ]
  },
  {
   "cell_type": "code",
   "execution_count": 17,
   "metadata": {},
   "outputs": [
    {
     "data": {
      "text/html": [
       "<i>Table length=12</i>\n",
       "<table id=\"table139893193796880-334812\" class=\"table-striped table-bordered table-condensed\">\n",
       "<thead><tr><th>idx</th><th>MAIN_ID</th><th>RA</th><th>DEC</th></tr></thead>\n",
       "<thead><tr><th></th><th></th><th>&quot;h:m:s&quot;</th><th>&quot;d:m:s&quot;</th></tr></thead>\n",
       "<tr><td>0</td><td>V* KR Ori</td><td>05 35 00.1168</td><td>-05 23 01.884</td></tr>\n",
       "<tr><td>1</td><td>* tet01 Ori D</td><td>05 35 17.2574</td><td>-05 23 16.570</td></tr>\n",
       "<tr><td>2</td><td>* tet01 Ori E</td><td>05 35 15.7721</td><td>-05 23 09.889</td></tr>\n",
       "<tr><td>3</td><td>* tet01 Ori F</td><td>05 35 16.7270</td><td>-05 23 25.197</td></tr>\n",
       "<tr><td>4</td><td>* tet01 Ori A</td><td>05 35 15.8254</td><td>-05 23 14.334</td></tr>\n",
       "<tr><td>5</td><td>V* MR Ori</td><td>05 35 16.9783</td><td>-05 21 45.337</td></tr>\n",
       "<tr><td>6</td><td>V* AK Ori</td><td>05 35 26.3491</td><td>-05 25 40.220</td></tr>\n",
       "<tr><td>7</td><td>V* V420 Ori</td><td>05 35 28.2055</td><td>-05 24 58.186</td></tr>\n",
       "<tr><td>8</td><td>V* V404 Ori</td><td>05 35 03.0920</td><td>-05 22 37.827</td></tr>\n",
       "<tr><td>9</td><td>V* V377 Ori</td><td>05 35 21.2917</td><td>-05 24 57.399</td></tr>\n",
       "<tr><td>10</td><td>* tet02 Ori C</td><td>05 35 31.4311</td><td>-05 25 16.371</td></tr>\n",
       "<tr><td>11</td><td>V* LU Ori</td><td>05 35 11.4964</td><td>-05 26 02.389</td></tr>\n",
       "</table><style>table.dataTable {clear: both; width: auto !important; margin: 0 !important;}\n",
       ".dataTables_info, .dataTables_length, .dataTables_filter, .dataTables_paginate{\n",
       "display: inline-block; margin-right: 1em; }\n",
       ".paginate_button { margin-right: 5px; }\n",
       "</style>\n",
       "<script>\n",
       "\n",
       "var astropy_sort_num = function(a, b) {\n",
       "    var a_num = parseFloat(a);\n",
       "    var b_num = parseFloat(b);\n",
       "\n",
       "    if (isNaN(a_num) && isNaN(b_num))\n",
       "        return ((a < b) ? -1 : ((a > b) ? 1 : 0));\n",
       "    else if (!isNaN(a_num) && !isNaN(b_num))\n",
       "        return ((a_num < b_num) ? -1 : ((a_num > b_num) ? 1 : 0));\n",
       "    else\n",
       "        return isNaN(a_num) ? -1 : 1;\n",
       "}\n",
       "\n",
       "require.config({paths: {\n",
       "    datatables: 'https://cdn.datatables.net/1.10.12/js/jquery.dataTables.min'\n",
       "}});\n",
       "require([\"datatables\"], function(){\n",
       "    console.log(\"$('#table139893193796880-334812').dataTable()\");\n",
       "    \n",
       "jQuery.extend( jQuery.fn.dataTableExt.oSort, {\n",
       "    \"optionalnum-asc\": astropy_sort_num,\n",
       "    \"optionalnum-desc\": function (a,b) { return -astropy_sort_num(a, b); }\n",
       "});\n",
       "\n",
       "    $('#table139893193796880-334812').dataTable({\n",
       "        order: [],\n",
       "        pageLength: 50,\n",
       "        lengthMenu: [[10, 25, 50, 100, 500, 1000, -1], [10, 25, 50, 100, 500, 1000, 'All']],\n",
       "        pagingType: \"full_numbers\",\n",
       "        columnDefs: [{targets: [0], type: \"optionalnum\"}]\n",
       "    });\n",
       "});\n",
       "</script>\n"
      ],
      "text/plain": [
       "<IPython.core.display.HTML object>"
      ]
     },
     "execution_count": 17,
     "metadata": {},
     "output_type": "execute_result"
    }
   ],
   "source": [
    "result_table = Simbad_.query_criteria('region(CIRCLE, Trapezium, 6m)', otype='V*')  # Using row limited instance.\n",
    "result_table['MAIN_ID', 'RA', 'DEC'].show_in_notebook()"
   ]
  },
  {
   "cell_type": "markdown",
   "metadata": {},
   "source": [
    "### Query a bibcode"
   ]
  },
  {
   "cell_type": "markdown",
   "metadata": {},
   "source": [
    "You can retrieve the references for a bibcode with `query_bibcode()`.\n",
    "\n",
    " example: [Ritchey, G.W.](https://ui.adsabs.harvard.edu/abs/1910ApJ....32...26R/abstract)"
   ]
  },
  {
   "cell_type": "code",
   "execution_count": 33,
   "metadata": {},
   "outputs": [
    {
     "name": "stdout",
     "output_type": "stream",
     "text": [
      "1910ApJ....32...26R = DOI 10.1086/141784\n",
      "Astrophys. J., 32, 26-35 (1910)\n",
      "RITCHEY G.W.\n",
      "On some methods and results in direct photography with the 60-inch reflecting telescope of the Mount Wilson Solar Observatory.\n"
     ]
    }
   ],
   "source": [
    "bibliography = Simbad.query_bibcode('1910ApJ....32...26R')\n",
    "print(bibliography['References'][0])"
   ]
  },
  {
   "cell_type": "markdown",
   "metadata": {},
   "source": [
    "And get the objects referenced in the publication with `query_bibobj()`."
   ]
  },
  {
   "cell_type": "code",
   "execution_count": 34,
   "metadata": {},
   "outputs": [
    {
     "data": {
      "text/html": [
       "<i>Table length=7</i>\n",
       "<table id=\"table139891560529552-936356\" class=\"table-striped table-bordered table-condensed\">\n",
       "<thead><tr><th>idx</th><th>MAIN_ID</th><th>RA</th><th>DEC</th></tr></thead>\n",
       "<thead><tr><th></th><th></th><th>&quot;h:m:s&quot;</th><th>&quot;d:m:s&quot;</th></tr></thead>\n",
       "<tr><td>0</td><td>M   1</td><td>05 34 30.9</td><td>+22 00 53</td></tr>\n",
       "<tr><td>1</td><td>M  81</td><td>09 55 33.1726</td><td>+69 03 55.062</td></tr>\n",
       "<tr><td>2</td><td>M  97</td><td>11 14 47.7122</td><td>+55 01 08.482</td></tr>\n",
       "<tr><td>3</td><td>MCG+09-19-014</td><td>11 14 58.373</td><td>+54 57 41.22</td></tr>\n",
       "<tr><td>4</td><td>M  51</td><td>13 29 52.698</td><td>+47 11 42.93</td></tr>\n",
       "<tr><td>5</td><td>NGC  5195</td><td>13 29 59.590</td><td>+47 15 58.06</td></tr>\n",
       "<tr><td>6</td><td>M  57</td><td>18 53 35.0967</td><td>+33 01 44.883</td></tr>\n",
       "</table><style>table.dataTable {clear: both; width: auto !important; margin: 0 !important;}\n",
       ".dataTables_info, .dataTables_length, .dataTables_filter, .dataTables_paginate{\n",
       "display: inline-block; margin-right: 1em; }\n",
       ".paginate_button { margin-right: 5px; }\n",
       "</style>\n",
       "<script>\n",
       "\n",
       "var astropy_sort_num = function(a, b) {\n",
       "    var a_num = parseFloat(a);\n",
       "    var b_num = parseFloat(b);\n",
       "\n",
       "    if (isNaN(a_num) && isNaN(b_num))\n",
       "        return ((a < b) ? -1 : ((a > b) ? 1 : 0));\n",
       "    else if (!isNaN(a_num) && !isNaN(b_num))\n",
       "        return ((a_num < b_num) ? -1 : ((a_num > b_num) ? 1 : 0));\n",
       "    else\n",
       "        return isNaN(a_num) ? -1 : 1;\n",
       "}\n",
       "\n",
       "require.config({paths: {\n",
       "    datatables: 'https://cdn.datatables.net/1.10.12/js/jquery.dataTables.min'\n",
       "}});\n",
       "require([\"datatables\"], function(){\n",
       "    console.log(\"$('#table139891560529552-936356').dataTable()\");\n",
       "    \n",
       "jQuery.extend( jQuery.fn.dataTableExt.oSort, {\n",
       "    \"optionalnum-asc\": astropy_sort_num,\n",
       "    \"optionalnum-desc\": function (a,b) { return -astropy_sort_num(a, b); }\n",
       "});\n",
       "\n",
       "    $('#table139891560529552-936356').dataTable({\n",
       "        order: [],\n",
       "        pageLength: 50,\n",
       "        lengthMenu: [[10, 25, 50, 100, 500, 1000, -1], [10, 25, 50, 100, 500, 1000, 'All']],\n",
       "        pagingType: \"full_numbers\",\n",
       "        columnDefs: [{targets: [0], type: \"optionalnum\"}]\n",
       "    });\n",
       "});\n",
       "</script>\n"
      ],
      "text/plain": [
       "<IPython.core.display.HTML object>"
      ]
     },
     "execution_count": 34,
     "metadata": {},
     "output_type": "execute_result"
    }
   ],
   "source": [
    "result_table = Simbad.query_bibobj('1910ApJ....32...26R')\n",
    "result_table['MAIN_ID', 'RA', 'DEC'].show_in_notebook()"
   ]
  },
  {
   "cell_type": "markdown",
   "metadata": {},
   "source": [
    "## VizieR Queries"
   ]
  },
  {
   "cell_type": "markdown",
   "metadata": {},
   "source": []
  }
 ],
 "metadata": {
  "kernelspec": {
   "display_name": "base",
   "language": "python",
   "name": "python3"
  },
  "language_info": {
   "codemirror_mode": {
    "name": "ipython",
    "version": 3
   },
   "file_extension": ".py",
   "mimetype": "text/x-python",
   "name": "python",
   "nbconvert_exporter": "python",
   "pygments_lexer": "ipython3",
   "version": "3.11.6"
  }
 },
 "nbformat": 4,
 "nbformat_minor": 2
}
