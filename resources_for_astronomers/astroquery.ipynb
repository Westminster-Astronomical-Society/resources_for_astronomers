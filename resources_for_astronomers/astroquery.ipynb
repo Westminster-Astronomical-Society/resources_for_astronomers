{
 "cells": [
  {
   "cell_type": "markdown",
   "metadata": {},
   "source": [
    "<img src=\"_images/astroquery_project_logo_dark.svg\" class= \"dark-light\" alt=\"\" style=\"float:right;height:50px;padding-right:20px;\">"
   ]
  },
  {
   "cell_type": "markdown",
   "metadata": {},
   "source": [
    "\n",
    "# Astroquery Examples\n",
    "\n",
    "Astroquery ( [https://astroquery.readthedocs.io](https://astroquery.readthedocs.io) )\n",
    "is a set of tools for querying astronomical web forms and databases. It is a coordinated package\n",
    "of the Astropy project ( [http://www.astropy.org](http://www.astropy.org/) ).\n",
    "\n",
    "This page is a Jupyter notebook. You can download an executable version of it by clicking the download icon <i class=\"fa fa-download\" aria-hidden=\"true\"></i> above and selecting <i class=\"fa fa-file\" aria-hidden=\"true\"></i> .ipynb."
   ]
  },
  {
   "cell_type": "markdown",
   "metadata": {},
   "source": [
    "General imports:"
   ]
  },
  {
   "cell_type": "code",
   "execution_count": null,
   "metadata": {},
   "outputs": [],
   "source": [
    "from astropy import coordinates\n",
    "import astropy.units as u\n",
    "\n",
    "from astroquery.simbad import Simbad\n",
    "from astroquery.vizier import Vizier"
   ]
  },
  {
   "cell_type": "markdown",
   "metadata": {},
   "source": [
    "## SIMBAD queries\n",
    "\n",
    "SIMBAD allows for simple queries based on coordinates or object names."
   ]
  },
  {
   "cell_type": "markdown",
   "metadata": {},
   "source": [
    "### Query by target ID"
   ]
  },
  {
   "cell_type": "markdown",
   "metadata": {},
   "source": [
    "Use `query_object()` to query for a single object ID. The query returns an Astropy table with the default fields."
   ]
  },
  {
   "cell_type": "code",
   "execution_count": null,
   "metadata": {},
   "outputs": [],
   "source": [
    "result_table = Simbad.query_object(\"M57\")\n",
    "result_table['MAIN_ID', 'RA', 'DEC'].show_in_notebook()  # Display only MAIN_ID, RA, and DEC."
   ]
  },
  {
   "cell_type": "markdown",
   "metadata": {},
   "source": [
    "You can get a list of object IDs with `quey_objectids()`."
   ]
  },
  {
   "cell_type": "code",
   "execution_count": null,
   "metadata": {},
   "outputs": [],
   "source": [
    "IDs = Simbad.query_objectids(\"Ring Nebula\")\n",
    "IDs.show_in_notebook(display_length=10)"
   ]
  },
  {
   "cell_type": "markdown",
   "metadata": {},
   "source": [
    "You can query a list of objects with `query_objects()`. This is more efficient than repeated requests for single objects. There are rate limits that may vary, but you should not submit more than ~5-10 queries per second. A list is treated as a single request and will not result in overtaxing the server."
   ]
  },
  {
   "cell_type": "code",
   "execution_count": null,
   "metadata": {},
   "outputs": [],
   "source": [
    "result_table = Simbad.query_objects([\"M1\", \"M2\", \"M3\", \"M4\"])\n",
    "result_table['MAIN_ID', 'RA', 'DEC'].show_in_notebook()"
   ]
  },
  {
   "cell_type": "markdown",
   "metadata": {},
   "source": [
    "Wildcards and ranges can be used for identifiers.\n",
    "\n",
    "`*` : Any string of characters (including an empty one)\n",
    "\n",
    "`?` : Any character (exactly one character)\n",
    "\n",
    "`[abc]` : Exactly one character taken from the list.\n",
    "\n",
    "`[A-Z]` : Can also be defined by a range of characters.\n",
    "\n",
    "`[^0-9]` : Any (one) character not in the list."
   ]
  },
  {
   "cell_type": "code",
   "execution_count": null,
   "metadata": {},
   "outputs": [],
   "source": [
    "result_table = Simbad.query_object(\"m [1-9]\", wildcard=True)\n",
    "result_table['MAIN_ID', 'RA', 'DEC'].show_in_notebook()"
   ]
  },
  {
   "cell_type": "markdown",
   "metadata": {},
   "source": [
    "Generating a list of targets programmatically may be easier and more reliable than wildcard searches."
   ]
  },
  {
   "cell_type": "code",
   "execution_count": null,
   "metadata": {},
   "outputs": [],
   "source": [
    "targets = [f'M{_}'for _ in range(1,11)]; targets"
   ]
  },
  {
   "cell_type": "code",
   "execution_count": null,
   "metadata": {},
   "outputs": [],
   "source": [
    "result_table = Simbad.query_objects(targets)\n",
    "result_table['MAIN_ID', 'RA', 'DEC'].show_in_notebook()"
   ]
  },
  {
   "cell_type": "markdown",
   "metadata": {},
   "source": [
    "### Query by region"
   ]
  },
  {
   "cell_type": "markdown",
   "metadata": {},
   "source": [
    "You can query all objects in a region with `query_region()`. \n",
    "Use a coordinate or object ID and a radius. When no radius is specified, the radius defaults to 20 arcmin.\n",
    "Coordinates should be an Astropy `SkyCoord()` object and the radius a Astropy `Quantity()`."
   ]
  },
  {
   "cell_type": "code",
   "execution_count": null,
   "metadata": {},
   "outputs": [],
   "source": [
    "coord = coordinates.SkyCoord(\"18h53m35s +33d01m45s\", frame='icrs')\n",
    "radius = 5 * u.arcminute\n",
    "\n",
    "result_table = Simbad.query_region(coord, radius=radius)\n",
    "result_table['MAIN_ID', 'RA', 'DEC'].show_in_notebook()"
   ]
  },
  {
   "cell_type": "markdown",
   "metadata": {},
   "source": [
    "### Query by catalog"
   ]
  },
  {
   "cell_type": "markdown",
   "metadata": {},
   "source": [
    "You can query all objects in a catalog with `query_catalog`. \n",
    "This can return a very large table so you should set a row limit on your query.\n",
    "When querying large catalogs query by criteria is better."
   ]
  },
  {
   "cell_type": "code",
   "execution_count": null,
   "metadata": {},
   "outputs": [],
   "source": [
    "Simbad_ = Simbad()  # define a new instance of the class\n",
    "Simbad_.ROW_LIMIT = 12  # Set a row limit on that instance."
   ]
  },
  {
   "cell_type": "code",
   "execution_count": null,
   "metadata": {},
   "outputs": [],
   "source": [
    "result_table = Simbad_.query_catalog('ngc')\n",
    "result_table['MAIN_ID', 'RA', 'DEC'].show_in_notebook()"
   ]
  },
  {
   "cell_type": "markdown",
   "metadata": {},
   "source": [
    "### Query by criteria"
   ]
  },
  {
   "cell_type": "markdown",
   "metadata": {},
   "source": [
    "You can execute very specific queries using the `query_criteria()` method. These queries are formed in much the same way as they are on the web interface.\n",
    "Descriptions of [queryable fields](https://simbad.cds.unistra.fr/simbad/sim-fsam) and [object types](https://simbad.cds.unistra.fr/guide/otypes.htx)\n",
    "are on the SIMBAD website.\n",
    "\n",
    "Below is an example query for variable stars near the Trapezium."
   ]
  },
  {
   "cell_type": "code",
   "execution_count": null,
   "metadata": {},
   "outputs": [],
   "source": [
    "result_table = Simbad_.query_criteria('region(CIRCLE, Trapezium, 6m)', otype='V*')  # Using row limited instance.\n",
    "result_table['MAIN_ID', 'RA', 'DEC'].show_in_notebook()"
   ]
  },
  {
   "cell_type": "markdown",
   "metadata": {},
   "source": [
    "### Query a bibcode"
   ]
  },
  {
   "cell_type": "markdown",
   "metadata": {},
   "source": [
    "You can retrieve the references for a bibcode with `query_bibcode()`.\n",
    "\n",
    " example: [Ritchey, G.W.](https://ui.adsabs.harvard.edu/abs/1910ApJ....32...26R/abstract)"
   ]
  },
  {
   "cell_type": "code",
   "execution_count": null,
   "metadata": {},
   "outputs": [],
   "source": [
    "bibliography = Simbad.query_bibcode('1910ApJ....32...26R')\n",
    "print(bibliography['References'][0])"
   ]
  },
  {
   "cell_type": "markdown",
   "metadata": {},
   "source": [
    "And get the objects referenced in the publication with `query_bibobj()`."
   ]
  },
  {
   "cell_type": "code",
   "execution_count": null,
   "metadata": {},
   "outputs": [],
   "source": [
    "result_table = Simbad.query_bibobj('1910ApJ....32...26R')\n",
    "result_table['MAIN_ID', 'RA', 'DEC'].show_in_notebook()"
   ]
  },
  {
   "cell_type": "markdown",
   "metadata": {},
   "source": [
    "### Specifying additional VOTable fields to include in the result"
   ]
  },
  {
   "cell_type": "markdown",
   "metadata": {},
   "source": [
    "You can get a list of the current fields with `Simbad.get_votable_fields()`, and a list of available field with `Simbad.list_votable_fields()`."
   ]
  },
  {
   "cell_type": "code",
   "execution_count": null,
   "metadata": {},
   "outputs": [],
   "source": [
    "Simbad.get_votable_fields()"
   ]
  },
  {
   "cell_type": "code",
   "execution_count": null,
   "metadata": {},
   "outputs": [],
   "source": [
    "Simbad.list_votable_fields()"
   ]
  },
  {
   "cell_type": "markdown",
   "metadata": {},
   "source": [
    "Use `Simbad.add_votable_fields()` or `Simbad.remove_votable_fields()` to modify your query. You may wish to create a new instance of the `Simbad` object for your modifications."
   ]
  },
  {
   "cell_type": "code",
   "execution_count": null,
   "metadata": {},
   "outputs": [],
   "source": [
    "Simbad_ = Simbad()  # define a new instance of the class\n",
    "Simbad_.add_votable_fields('otype', 'flux(B)','flux(V)','flux(R)')"
   ]
  },
  {
   "cell_type": "code",
   "execution_count": null,
   "metadata": {},
   "outputs": [],
   "source": [
    "result_table = Simbad_.query_object('M57')\n",
    "result_table['MAIN_ID', 'RA', 'DEC', 'OTYPE', 'FLUX_B', 'FLUX_V', 'FLUX_R',].show_in_notebook()"
   ]
  },
  {
   "cell_type": "markdown",
   "metadata": {},
   "source": [
    "## VizieR Queries"
   ]
  },
  {
   "cell_type": "markdown",
   "metadata": {},
   "source": [
    "TODO"
   ]
  }
 ],
 "metadata": {
  "kernelspec": {
   "display_name": "base",
   "language": "python",
   "name": "python3"
  },
  "language_info": {
   "codemirror_mode": {
    "name": "ipython",
    "version": 3
   },
   "file_extension": ".py",
   "mimetype": "text/x-python",
   "name": "python",
   "nbconvert_exporter": "python",
   "pygments_lexer": "ipython3",
   "version": "3.11.6"
  }
 },
 "nbformat": 4,
 "nbformat_minor": 2
}
